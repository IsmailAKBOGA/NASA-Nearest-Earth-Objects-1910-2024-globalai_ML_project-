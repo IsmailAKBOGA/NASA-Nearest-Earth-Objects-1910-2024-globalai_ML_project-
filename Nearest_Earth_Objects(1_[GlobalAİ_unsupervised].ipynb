{
  "metadata": {
    "kernelspec": {
      "language": "python",
      "display_name": "Python 3",
      "name": "python3"
    },
    "language_info": {
      "name": "python",
      "version": "3.10.14",
      "mimetype": "text/x-python",
      "codemirror_mode": {
        "name": "ipython",
        "version": 3
      },
      "pygments_lexer": "ipython3",
      "nbconvert_exporter": "python",
      "file_extension": ".py"
    },
    "kaggle": {
      "accelerator": "none",
      "dataSources": [
        {
          "sourceId": 8984243,
          "sourceType": "datasetVersion",
          "datasetId": 5410371
        }
      ],
      "dockerImageVersionId": 30761,
      "isInternetEnabled": true,
      "language": "python",
      "sourceType": "notebook",
      "isGpuEnabled": false
    },
    "colab": {
      "name": "Nearest-Earth-Objects(1-[GlobalAİ-unsupervised]",
      "provenance": [],
      "include_colab_link": true
    }
  },
  "nbformat_minor": 0,
  "nbformat": 4,
  "cells": [
    {
      "cell_type": "markdown",
      "metadata": {
        "id": "view-in-github",
        "colab_type": "text"
      },
      "source": [
        "<a href=\"https://colab.research.google.com/github/IsmailAKBOGA/NASA-Nearest-Earth-Objects-1910-2024-globalai_ML_project-/blob/main/Nearest_Earth_Objects(1_%5BGlobalA%C4%B0_unsupervised%5D.ipynb\" target=\"_parent\"><img src=\"https://colab.research.google.com/assets/colab-badge.svg\" alt=\"Open In Colab\"/></a>"
      ]
    },
    {
      "cell_type": "markdown",
      "source": [
        "# Gerekli Kütüphaneleri Yükledik."
      ],
      "metadata": {
        "id": "BLUELsxVpGIQ"
      }
    },
    {
      "cell_type": "code",
      "source": [
        "import numpy as np\n",
        "import pandas as pd\n",
        "\n",
        "from sklearn.cluster import KMeans\n",
        "from sklearn.preprocessing import StandardScaler\n",
        "import matplotlib.pyplot as plt\n",
        "from sklearn.impute import SimpleImputer\n",
        "\n",
        "import os\n",
        "for dirname, _, filenames in os.walk('/kaggle/input'):\n",
        "    for filename in filenames:\n",
        "        print(os.path.join(dirname, filename))\n",
        "\n"
      ],
      "metadata": {
        "_uuid": "8f2839f25d086af736a60e9eeb907d3b93b6e0e5",
        "_cell_guid": "b1076dfc-b9ad-4769-8c92-a6c4dae69d19",
        "execution": {
          "iopub.status.busy": "2024-09-16T15:49:08.393945Z",
          "iopub.execute_input": "2024-09-16T15:49:08.394889Z",
          "iopub.status.idle": "2024-09-16T15:49:08.406578Z",
          "shell.execute_reply.started": "2024-09-16T15:49:08.394834Z",
          "shell.execute_reply": "2024-09-16T15:49:08.405071Z"
        },
        "trusted": true,
        "id": "wRXOq5OwpGIR"
      },
      "execution_count": 1,
      "outputs": []
    },
    {
      "cell_type": "markdown",
      "source": [
        "# Dosyayı okuduk ve ilk 5 satırını yazdırdık."
      ],
      "metadata": {
        "id": "QJVX09CRpGIS"
      }
    },
    {
      "cell_type": "code",
      "source": [
        "df = pd.read_csv(\"/content/nearest-earth-objects(1910-2024).csv\")\n",
        "print(df.head())\n",
        ""
      ],
      "metadata": {
        "execution": {
          "iopub.status.busy": "2024-09-16T15:47:22.092116Z",
          "iopub.execute_input": "2024-09-16T15:47:22.092634Z",
          "iopub.status.idle": "2024-09-16T15:47:22.767892Z",
          "shell.execute_reply.started": "2024-09-16T15:47:22.09259Z",
          "shell.execute_reply": "2024-09-16T15:47:22.766667Z"
        },
        "trusted": true,
        "id": "AG56ycfUpGIS",
        "outputId": "623e2655-66c0-4924-b136-cc77aa92737c",
        "colab": {
          "base_uri": "https://localhost:8080/"
        }
      },
      "execution_count": 2,
      "outputs": [
        {
          "output_type": "stream",
          "name": "stdout",
          "text": [
            "    neo_id                name  absolute_magnitude  estimated_diameter_min  \\\n",
            "0  2162117  162117 (1998 SD15)               19.14                0.394962   \n",
            "1  2349507    349507 (2008 QY)               18.50                0.530341   \n",
            "2  2455415    455415 (2003 GA)               21.45                0.136319   \n",
            "3  3132126           (2002 PB)               20.63                0.198863   \n",
            "4  3557844           (2011 DW)               22.70                0.076658   \n",
            "\n",
            "   estimated_diameter_max orbiting_body  relative_velocity  miss_distance  \\\n",
            "0                0.883161         Earth       71745.401048   5.814362e+07   \n",
            "1                1.185878         Earth      109949.757148   5.580105e+07   \n",
            "2                0.304818         Earth       24865.506798   6.720689e+07   \n",
            "3                0.444672         Earth       78890.076805   3.039644e+07   \n",
            "4                0.171412         Earth       56036.519484   6.311863e+07   \n",
            "\n",
            "  is_hazardous  \n",
            "0        False  \n",
            "1         True  \n",
            "2        False  \n",
            "3        False  \n",
            "4        False  \n"
          ]
        }
      ]
    },
    {
      "cell_type": "markdown",
      "source": [
        "Sayısal sütunları seçtik ve seçilen sütunları içeren dataframe oluşturduk."
      ],
      "metadata": {
        "id": "pZDj2T8qpGIT"
      }
    },
    {
      "cell_type": "code",
      "source": [
        "numerical_columns = ['absolute_magnitude', 'estimated_diameter_min', 'estimated_diameter_max',\n",
        "                     'relative_velocity', 'miss_distance']\n",
        "x = df[numerical_columns]\n",
        ""
      ],
      "metadata": {
        "execution": {
          "iopub.status.busy": "2024-09-16T15:47:33.53997Z",
          "iopub.execute_input": "2024-09-16T15:47:33.540473Z",
          "iopub.status.idle": "2024-09-16T15:47:33.554912Z",
          "shell.execute_reply.started": "2024-09-16T15:47:33.540428Z",
          "shell.execute_reply": "2024-09-16T15:47:33.553467Z"
        },
        "trusted": true,
        "id": "EeOg78KxpGIT"
      },
      "execution_count": 3,
      "outputs": []
    },
    {
      "cell_type": "markdown",
      "source": [
        "# Özellikleri standartlaştırdık."
      ],
      "metadata": {
        "id": "Tu0dc7x4pGIT"
      }
    },
    {
      "cell_type": "code",
      "source": [
        "scaler = StandardScaler()\n",
        "x_scaled = scaler.fit_transform(x)\n",
        ""
      ],
      "metadata": {
        "execution": {
          "iopub.status.busy": "2024-09-16T15:47:49.640948Z",
          "iopub.execute_input": "2024-09-16T15:47:49.641455Z",
          "iopub.status.idle": "2024-09-16T15:47:49.691788Z",
          "shell.execute_reply.started": "2024-09-16T15:47:49.641402Z",
          "shell.execute_reply": "2024-09-16T15:47:49.690561Z"
        },
        "trusted": true,
        "id": "EI3iSjFOpGIU"
      },
      "execution_count": 4,
      "outputs": []
    },
    {
      "cell_type": "markdown",
      "source": [
        "# Eksik verileri ortalama ile doldurduk."
      ],
      "metadata": {
        "id": "bg_yyliOpGIU"
      }
    },
    {
      "cell_type": "code",
      "source": [
        "imputer = SimpleImputer(strategy='mean')\n",
        "x_scaled_imputed = imputer.fit_transform(x_scaled)"
      ],
      "metadata": {
        "execution": {
          "iopub.status.busy": "2024-09-16T15:47:57.081118Z",
          "iopub.execute_input": "2024-09-16T15:47:57.081636Z",
          "iopub.status.idle": "2024-09-16T15:47:57.121982Z",
          "shell.execute_reply.started": "2024-09-16T15:47:57.081591Z",
          "shell.execute_reply": "2024-09-16T15:47:57.120866Z"
        },
        "trusted": true,
        "id": "qrJVc1RwpGIU"
      },
      "execution_count": 5,
      "outputs": []
    },
    {
      "cell_type": "markdown",
      "source": [
        "# KMeans algoritmasını 3 küme için başlattık ve sonuçları \"cluster\" sütununa ekledik."
      ],
      "metadata": {
        "id": "9TulfYO3pGIV"
      }
    },
    {
      "cell_type": "code",
      "source": [
        "kmeans = KMeans(n_clusters=3, random_state=42, n_init=10)\n",
        "df['cluster'] = kmeans.fit_predict(x_scaled_imputed)"
      ],
      "metadata": {
        "execution": {
          "iopub.status.busy": "2024-09-16T15:49:13.064893Z",
          "iopub.execute_input": "2024-09-16T15:49:13.065371Z",
          "iopub.status.idle": "2024-09-16T15:49:22.116118Z",
          "shell.execute_reply.started": "2024-09-16T15:49:13.065326Z",
          "shell.execute_reply": "2024-09-16T15:49:22.114968Z"
        },
        "trusted": true,
        "id": "ojLUMtn9pGIW"
      },
      "execution_count": 6,
      "outputs": []
    },
    {
      "cell_type": "markdown",
      "source": [
        "# Kümeleri görselleştirdik."
      ],
      "metadata": {
        "id": "7MzbVbhYpGIW"
      }
    },
    {
      "cell_type": "code",
      "source": [
        "plt.scatter(df['absolute_magnitude'], df['estimated_diameter_min'], c=df['cluster'], cmap='viridis')\n",
        "plt.xlabel('Absolute Magnitude')\n",
        "plt.ylabel('Estimated Diameter Min')\n",
        "plt.title('K-Means Clustering of Asteroids')\n",
        "plt.show()"
      ],
      "metadata": {
        "execution": {
          "iopub.status.busy": "2024-09-16T15:49:31.550841Z",
          "iopub.execute_input": "2024-09-16T15:49:31.552155Z",
          "iopub.status.idle": "2024-09-16T15:49:39.425479Z",
          "shell.execute_reply.started": "2024-09-16T15:49:31.552083Z",
          "shell.execute_reply": "2024-09-16T15:49:39.424103Z"
        },
        "trusted": true,
        "id": "MbiEfrropGIW",
        "outputId": "c50e5f22-b155-423d-d17c-9d6e2028cdc6",
        "colab": {
          "base_uri": "https://localhost:8080/",
          "height": 472
        }
      },
      "execution_count": 7,
      "outputs": [
        {
          "output_type": "display_data",
          "data": {
            "text/plain": [
              "<Figure size 640x480 with 1 Axes>"
            ],
            "image/png": "[encoded data removed]"
          },
          "metadata": {}
        }
      ]
    }
  ]
}