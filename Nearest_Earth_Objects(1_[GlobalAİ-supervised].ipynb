{
  "metadata": {
    "kernelspec": {
      "language": "python",
      "display_name": "Python 3",
      "name": "python3"
    },
    "language_info": {
      "name": "python",
      "version": "3.10.14",
      "mimetype": "text/x-python",
      "codemirror_mode": {
        "name": "ipython",
        "version": 3
      },
      "pygments_lexer": "ipython3",
      "nbconvert_exporter": "python",
      "file_extension": ".py"
    },
    "kaggle": {
      "accelerator": "none",
      "dataSources": [
        {
          "sourceId": 8984243,
          "sourceType": "datasetVersion",
          "datasetId": 5410371
        }
      ],
      "dockerImageVersionId": 30761,
      "isInternetEnabled": true,
      "language": "python",
      "sourceType": "notebook",
      "isGpuEnabled": false
    },
    "colab": {
      "name": "Nearest-Earth-Objects(1-[GlobalAİ] ",
      "provenance": [],
      "include_colab_link": true
    }
  },
  "nbformat_minor": 0,
  "nbformat": 4,
  "cells": [
    {
      "cell_type": "markdown",
      "metadata": {
        "id": "view-in-github",
        "colab_type": "text"
      },
      "source": [
        "<a href=\"https://colab.research.google.com/github/IsmailAKBOGA/NASA-Nearest-Earth-Objects-1910-2024-globalai_ML_project-/blob/main/Nearest_Earth_Objects(1_%5BGlobalA%C4%B0-supervised%5D.ipynb\" target=\"_parent\"><img src=\"https://colab.research.google.com/assets/colab-badge.svg\" alt=\"Open In Colab\"/></a>"
      ]
    },
    {
      "cell_type": "markdown",
      "source": [
        "# Gerekli Kütüphaneleri Yükledik."
      ],
      "metadata": {
        "id": "ma3QYGMfqsch"
      }
    },
    {
      "cell_type": "code",
      "source": [
        "import pandas as pd\n",
        "from sklearn.model_selection import train_test_split\n",
        "from sklearn.linear_model import LogisticRegression\n",
        "from sklearn.metrics import classification_report, accuracy_score\n",
        "from io import StringIO\n",
        "from sklearn.impute import SimpleImputer\n",
        "\n",
        "import os\n",
        "for dirname, _, filenames in os.walk('/kaggle/input'):\n",
        "    for filename in filenames:\n",
        "        print(os.path.join(dirname, filename))"
      ],
      "metadata": {
        "_uuid": "8f2839f25d086af736a60e9eeb907d3b93b6e0e5",
        "_cell_guid": "b1076dfc-b9ad-4769-8c92-a6c4dae69d19",
        "execution": {
          "iopub.status.busy": "2024-09-16T15:10:21.622508Z",
          "iopub.execute_input": "2024-09-16T15:10:21.623918Z",
          "iopub.status.idle": "2024-09-16T15:10:22.616365Z",
          "shell.execute_reply.started": "2024-09-16T15:10:21.623845Z",
          "shell.execute_reply": "2024-09-16T15:10:22.614508Z"
        },
        "trusted": true,
        "id": "2oRF-wvZqsch"
      },
      "execution_count": 17,
      "outputs": []
    },
    {
      "cell_type": "markdown",
      "source": [
        "# csv dosyasını okuduk ve ilk 5 satırı yazdırdık."
      ],
      "metadata": {
        "id": "Bb2Z0FF-qsch"
      }
    },
    {
      "cell_type": "code",
      "source": [
        "df = pd.read_csv(\"/content/nearest-earth-objects(1910-2024).csv\")\n",
        "print(df.head())\n",
        ""
      ],
      "metadata": {
        "execution": {
          "iopub.status.busy": "2024-09-16T15:09:33.402357Z",
          "iopub.execute_input": "2024-09-16T15:09:33.403412Z",
          "iopub.status.idle": "2024-09-16T15:09:34.03863Z",
          "shell.execute_reply.started": "2024-09-16T15:09:33.403365Z",
          "shell.execute_reply": "2024-09-16T15:09:34.03749Z"
        },
        "trusted": true,
        "colab": {
          "base_uri": "https://localhost:8080/"
        },
        "id": "QhOrWAmgqsci",
        "outputId": "1d7b6057-8467-4910-ab10-b4331221c0b5"
      },
      "execution_count": 18,
      "outputs": [
        {
          "output_type": "stream",
          "name": "stdout",
          "text": [
            "    neo_id                name  absolute_magnitude  estimated_diameter_min  \\\n",
            "0  2162117  162117 (1998 SD15)               19.14                0.394962   \n",
            "1  2349507    349507 (2008 QY)               18.50                0.530341   \n",
            "2  2455415    455415 (2003 GA)               21.45                0.136319   \n",
            "3  3132126           (2002 PB)               20.63                0.198863   \n",
            "4  3557844           (2011 DW)               22.70                0.076658   \n",
            "\n",
            "   estimated_diameter_max orbiting_body  relative_velocity  miss_distance  \\\n",
            "0                0.883161         Earth       71745.401048   5.814362e+07   \n",
            "1                1.185878         Earth      109949.757148   5.580105e+07   \n",
            "2                0.304818         Earth       24865.506798   6.720689e+07   \n",
            "3                0.444672         Earth       78890.076805   3.039644e+07   \n",
            "4                0.171412         Earth       56036.519484   6.311863e+07   \n",
            "\n",
            "  is_hazardous  \n",
            "0        False  \n",
            "1         True  \n",
            "2        False  \n",
            "3        False  \n",
            "4        False  \n"
          ]
        },
        {
          "output_type": "stream",
          "name": "stderr",
          "text": [
            "<ipython-input-18-7a586bd6b07a>:1: DtypeWarning: Columns (8) have mixed types. Specify dtype option on import or set low_memory=False.\n",
            "  df = pd.read_csv(\"/content/nearest-earth-objects(1910-2024).csv\")\n"
          ]
        }
      ]
    },
    {
      "cell_type": "markdown",
      "source": [
        "# Sütundaki verileri tam sayıya dönüştürdük ve eksik verileri \"0\" ile doldurduk."
      ],
      "metadata": {
        "id": "EfuV8H4Hqsci"
      }
    },
    {
      "cell_type": "code",
      "source": [
        "df['is_hazardous'] = df['is_hazardous'].fillna(0).astype(int)"
      ],
      "metadata": {
        "id": "jA7VC7GBqsci"
      },
      "execution_count": 19,
      "outputs": []
    },
    {
      "cell_type": "markdown",
      "source": [
        "# Kullanılacak sütunları seçtik."
      ],
      "metadata": {
        "id": "KJ3xq_LRqscj"
      }
    },
    {
      "cell_type": "code",
      "source": [
        "\n",
        "x = df[['absolute_magnitude', 'relative_velocity', 'miss_distance']]\n",
        "y = df['is_hazardous']"
      ],
      "metadata": {
        "execution": {
          "iopub.status.busy": "2024-09-16T15:10:10.007518Z",
          "iopub.execute_input": "2024-09-16T15:10:10.008054Z",
          "iopub.status.idle": "2024-09-16T15:10:10.020835Z",
          "shell.execute_reply.started": "2024-09-16T15:10:10.008008Z",
          "shell.execute_reply": "2024-09-16T15:10:10.019285Z"
        },
        "trusted": true,
        "id": "XKzZFz1nqscj"
      },
      "execution_count": 20,
      "outputs": []
    },
    {
      "cell_type": "markdown",
      "source": [
        "# Burada veriyi eğitim ve test setlerine ayırdık."
      ],
      "metadata": {
        "id": "bjs1PZNtqsck"
      }
    },
    {
      "cell_type": "code",
      "source": [
        "x_train, x_test, y_train, y_test = train_test_split(x, y, test_size=0.2, random_state=42)\n",
        ""
      ],
      "metadata": {
        "execution": {
          "iopub.status.busy": "2024-09-16T15:10:26.629107Z",
          "iopub.execute_input": "2024-09-16T15:10:26.629604Z",
          "iopub.status.idle": "2024-09-16T15:10:26.661791Z",
          "shell.execute_reply.started": "2024-09-16T15:10:26.62956Z",
          "shell.execute_reply": "2024-09-16T15:10:26.660526Z"
        },
        "trusted": true,
        "id": "DS4lBgjgqsck"
      },
      "execution_count": 21,
      "outputs": []
    },
    {
      "cell_type": "markdown",
      "source": [
        "# Eksik verileri medyan ile doldurduk."
      ],
      "metadata": {
        "id": "HU7Y1X8jqscl"
      }
    },
    {
      "cell_type": "code",
      "source": [
        "imputer = SimpleImputer(strategy='median')\n",
        "x_train_imputed = imputer.fit_transform(x_train)\n",
        "x_test_imputed = imputer.transform(x_test)\n"
      ],
      "metadata": {
        "execution": {
          "iopub.status.busy": "2024-09-16T15:10:36.992723Z",
          "iopub.execute_input": "2024-09-16T15:10:36.99329Z",
          "iopub.status.idle": "2024-09-16T15:10:37.164274Z",
          "shell.execute_reply.started": "2024-09-16T15:10:36.993234Z",
          "shell.execute_reply": "2024-09-16T15:10:37.162971Z"
        },
        "trusted": true,
        "id": "hFC5DOIeqscl"
      },
      "execution_count": 22,
      "outputs": []
    },
    {
      "cell_type": "markdown",
      "source": [
        "# Lojistik Regrasyon modeli oluşturup modeli eğitim verisi ile eğittik."
      ],
      "metadata": {
        "id": "pu4NCu64qscl"
      }
    },
    {
      "cell_type": "code",
      "source": [
        "model = LogisticRegression()\n",
        "\n",
        "model.fit(x_train_imputed, y_train)\n",
        "\n",
        "LogisticRegression()\n"
      ],
      "metadata": {
        "execution": {
          "iopub.status.busy": "2024-09-16T15:10:49.475247Z",
          "iopub.execute_input": "2024-09-16T15:10:49.47659Z",
          "iopub.status.idle": "2024-09-16T15:10:50.440637Z",
          "shell.execute_reply.started": "2024-09-16T15:10:49.476531Z",
          "shell.execute_reply": "2024-09-16T15:10:50.439401Z"
        },
        "trusted": true,
        "colab": {
          "base_uri": "https://localhost:8080/",
          "height": 75
        },
        "id": "4ePM9QDgqscl",
        "outputId": "30e9f3c8-b7ae-422e-e31c-bc15b4c53965"
      },
      "execution_count": 23,
      "outputs": [
        {
          "output_type": "execute_result",
          "data": {
            "text/plain": [
              "LogisticRegression()"
            ],
            "text/html": [
              "<style>#sk-container-id-2 {color: black;}#sk-container-id-2 pre{padding: 0;}#sk-container-id-2 div.sk-toggleable {background-color: white;}#sk-container-id-2 label.sk-toggleable__label {cursor: pointer;display: block;width: 100%;margin-bottom: 0;padding: 0.3em;box-sizing: border-box;text-align: center;}#sk-container-id-2 label.sk-toggleable__label-arrow:before {content: \"▸\";float: left;margin-right: 0.25em;color: #696969;}#sk-container-id-2 label.sk-toggleable__label-arrow:hover:before {color: black;}#sk-container-id-2 div.sk-estimator:hover label.sk-toggleable__label-arrow:before {color: black;}#sk-container-id-2 div.sk-toggleable__content {max-height: 0;max-width: 0;overflow: hidden;text-align: left;background-color: #f0f8ff;}#sk-container-id-2 div.sk-toggleable__content pre {margin: 0.2em;color: black;border-radius: 0.25em;background-color: #f0f8ff;}#sk-container-id-2 input.sk-toggleable__control:checked~div.sk-toggleable__content {max-height: 200px;max-width: 100%;overflow: auto;}#sk-container-id-2 input.sk-toggleable__control:checked~label.sk-toggleable__label-arrow:before {content: \"▾\";}#sk-container-id-2 div.sk-estimator input.sk-toggleable__control:checked~label.sk-toggleable__label {background-color: #d4ebff;}#sk-container-id-2 div.sk-label input.sk-toggleable__control:checked~label.sk-toggleable__label {background-color: #d4ebff;}#sk-container-id-2 input.sk-hidden--visually {border: 0;clip: rect(1px 1px 1px 1px);clip: rect(1px, 1px, 1px, 1px);height: 1px;margin: -1px;overflow: hidden;padding: 0;position: absolute;width: 1px;}#sk-container-id-2 div.sk-estimator {font-family: monospace;background-color: #f0f8ff;border: 1px dotted black;border-radius: 0.25em;box-sizing: border-box;margin-bottom: 0.5em;}#sk-container-id-2 div.sk-estimator:hover {background-color: #d4ebff;}#sk-container-id-2 div.sk-parallel-item::after {content: \"\";width: 100%;border-bottom: 1px solid gray;flex-grow: 1;}#sk-container-id-2 div.sk-label:hover label.sk-toggleable__label {background-color: #d4ebff;}#sk-container-id-2 div.sk-serial::before {content: \"\";position: absolute;border-left: 1px solid gray;box-sizing: border-box;top: 0;bottom: 0;left: 50%;z-index: 0;}#sk-container-id-2 div.sk-serial {display: flex;flex-direction: column;align-items: center;background-color: white;padding-right: 0.2em;padding-left: 0.2em;position: relative;}#sk-container-id-2 div.sk-item {position: relative;z-index: 1;}#sk-container-id-2 div.sk-parallel {display: flex;align-items: stretch;justify-content: center;background-color: white;position: relative;}#sk-container-id-2 div.sk-item::before, #sk-container-id-2 div.sk-parallel-item::before {content: \"\";position: absolute;border-left: 1px solid gray;box-sizing: border-box;top: 0;bottom: 0;left: 50%;z-index: -1;}#sk-container-id-2 div.sk-parallel-item {display: flex;flex-direction: column;z-index: 1;position: relative;background-color: white;}#sk-container-id-2 div.sk-parallel-item:first-child::after {align-self: flex-end;width: 50%;}#sk-container-id-2 div.sk-parallel-item:last-child::after {align-self: flex-start;width: 50%;}#sk-container-id-2 div.sk-parallel-item:only-child::after {width: 0;}#sk-container-id-2 div.sk-dashed-wrapped {border: 1px dashed gray;margin: 0 0.4em 0.5em 0.4em;box-sizing: border-box;padding-bottom: 0.4em;background-color: white;}#sk-container-id-2 div.sk-label label {font-family: monospace;font-weight: bold;display: inline-block;line-height: 1.2em;}#sk-container-id-2 div.sk-label-container {text-align: center;}#sk-container-id-2 div.sk-container {/* jupyter's `normalize.less` sets `[hidden] { display: none; }` but bootstrap.min.css set `[hidden] { display: none !important; }` so we also need the `!important` here to be able to override the default hidden behavior on the sphinx rendered scikit-learn.org. See: https://github.com/scikit-learn/scikit-learn/issues/21755 */display: inline-block !important;position: relative;}#sk-container-id-2 div.sk-text-repr-fallback {display: none;}</style><div id=\"sk-container-id-2\" class=\"sk-top-container\"><div class=\"sk-text-repr-fallback\"><pre>LogisticRegression()</pre><b>In a Jupyter environment, please rerun this cell to show the HTML representation or trust the notebook. <br />On GitHub, the HTML representation is unable to render, please try loading this page with nbviewer.org.</b></div><div class=\"sk-container\" hidden><div class=\"sk-item\"><div class=\"sk-estimator sk-toggleable\"><input class=\"sk-toggleable__control sk-hidden--visually\" id=\"sk-estimator-id-2\" type=\"checkbox\" checked><label for=\"sk-estimator-id-2\" class=\"sk-toggleable__label sk-toggleable__label-arrow\">LogisticRegression</label><div class=\"sk-toggleable__content\"><pre>LogisticRegression()</pre></div></div></div></div></div>"
            ]
          },
          "metadata": {},
          "execution_count": 23
        }
      ]
    },
    {
      "cell_type": "markdown",
      "source": [
        "# Test için tahminlerde bulunuldu."
      ],
      "metadata": {
        "id": "3Xt9K3mkqscl"
      }
    },
    {
      "cell_type": "code",
      "source": [
        "\n",
        "y_pred = model.predict(x_test_imputed)\n"
      ],
      "metadata": {
        "execution": {
          "iopub.status.busy": "2024-09-16T15:11:56.707195Z",
          "iopub.execute_input": "2024-09-16T15:11:56.707876Z",
          "iopub.status.idle": "2024-09-16T15:11:56.719557Z",
          "shell.execute_reply.started": "2024-09-16T15:11:56.707816Z",
          "shell.execute_reply": "2024-09-16T15:11:56.717988Z"
        },
        "trusted": true,
        "id": "uB6AqSwJqscl"
      },
      "execution_count": 24,
      "outputs": []
    },
    {
      "cell_type": "markdown",
      "source": [
        "Modelin doğruluk oranı hesaplandı ve rapor oluşturuldu."
      ],
      "metadata": {
        "id": "_n-5hrB7qscm"
      }
    },
    {
      "cell_type": "code",
      "source": [
        "accuracy = accuracy_score(y_test, y_pred)\n",
        "report = classification_report(y_test, y_pred, zero_division=0)\n",
        "\n"
      ],
      "metadata": {
        "execution": {
          "iopub.status.busy": "2024-09-16T15:17:11.363327Z",
          "iopub.execute_input": "2024-09-16T15:17:11.36381Z",
          "iopub.status.idle": "2024-09-16T15:17:11.486587Z",
          "shell.execute_reply.started": "2024-09-16T15:17:11.363767Z",
          "shell.execute_reply": "2024-09-16T15:17:11.485281Z"
        },
        "trusted": true,
        "id": "FZPgIdrNqscm"
      },
      "execution_count": 25,
      "outputs": []
    },
    {
      "cell_type": "markdown",
      "source": [
        "# Doğruluk oranı ve sınıflandırma raporunu ekrana yazdırdık."
      ],
      "metadata": {
        "id": "wx2PstDkqscm"
      }
    },
    {
      "cell_type": "code",
      "source": [
        "print(f\"Doğruluk: {accuracy}\")\n",
        "print(\"Sınıflandırma raporu:\")\n",
        "print(report)"
      ],
      "metadata": {
        "execution": {
          "iopub.status.busy": "2024-09-16T15:16:23.206224Z",
          "iopub.execute_input": "2024-09-16T15:16:23.206829Z",
          "iopub.status.idle": "2024-09-16T15:16:23.214536Z",
          "shell.execute_reply.started": "2024-09-16T15:16:23.206781Z",
          "shell.execute_reply": "2024-09-16T15:16:23.212912Z"
        },
        "trusted": true,
        "colab": {
          "base_uri": "https://localhost:8080/"
        },
        "id": "tfDVjp3nqscm",
        "outputId": "308ecab9-ade4-4379-b956-85f4c56b2707"
      },
      "execution_count": 26,
      "outputs": [
        {
          "output_type": "stream",
          "name": "stdout",
          "text": [
            "Doğruluk: 0.8472976942282273\n",
            "Sınıflandırma raporu:\n",
            "              precision    recall  f1-score   support\n",
            "\n",
            "           0       0.85      1.00      0.92     23077\n",
            "           1       0.00      0.00      0.00      4159\n",
            "\n",
            "    accuracy                           0.85     27236\n",
            "   macro avg       0.42      0.50      0.46     27236\n",
            "weighted avg       0.72      0.85      0.78     27236\n",
            "\n"
          ]
        }
      ]
    },
    {
      "cell_type": "markdown",
      "source": [
        "# Modelin katsayıları ve kesme terimlerini ekrana yazdırdık."
      ],
      "metadata": {
        "id": "ryvi5NL1qscm"
      }
    },
    {
      "cell_type": "code",
      "source": [
        "print(\"Katsayılar:\", model.coef_)\n",
        "print(\"Kesişim:\", model.intercept_)\n"
      ],
      "metadata": {
        "execution": {
          "iopub.status.busy": "2024-09-16T15:20:22.424152Z",
          "iopub.execute_input": "2024-09-16T15:20:22.425306Z",
          "iopub.status.idle": "2024-09-16T15:20:22.432854Z",
          "shell.execute_reply.started": "2024-09-16T15:20:22.425249Z",
          "shell.execute_reply": "2024-09-16T15:20:22.431279Z"
        },
        "trusted": true,
        "colab": {
          "base_uri": "https://localhost:8080/"
        },
        "id": "nxwvMRiuqscm",
        "outputId": "7ba3e812-1bf9-445e-f834-ea40ad66ee65"
      },
      "execution_count": 27,
      "outputs": [
        {
          "output_type": "stream",
          "name": "stdout",
          "text": [
            "Katsayılar: [[-5.58844040e-14 -2.89120760e-11 -3.63256981e-08]]\n",
            "Kesişim: [-1.97975915e-15]\n"
          ]
        }
      ]
    }
  ]
}