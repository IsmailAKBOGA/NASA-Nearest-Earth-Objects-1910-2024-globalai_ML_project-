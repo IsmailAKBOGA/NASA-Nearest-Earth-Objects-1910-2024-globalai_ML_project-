{
  "metadata": {
    "kernelspec": {
      "language": "python",
      "display_name": "Python 3",
      "name": "python3"
    },
    "language_info": {
      "name": "python",
      "version": "3.10.14",
      "mimetype": "text/x-python",
      "codemirror_mode": {
        "name": "ipython",
        "version": 3
      },
      "pygments_lexer": "ipython3",
      "nbconvert_exporter": "python",
      "file_extension": ".py"
    },
    "kaggle": {
      "accelerator": "none",
      "dataSources": [
        {
          "sourceId": 8984243,
          "sourceType": "datasetVersion",
          "datasetId": 5410371
        }
      ],
      "dockerImageVersionId": 30761,
      "isInternetEnabled": true,
      "language": "python",
      "sourceType": "notebook",
      "isGpuEnabled": false
    },
    "colab": {
      "name": "Nearest-Earth-Objects(1-[GlobalAİ] ",
      "provenance": [],
      "include_colab_link": true
    }
  },
  "nbformat_minor": 0,
  "nbformat": 4,
  "cells": [
    {
      "cell_type": "markdown",
      "metadata": {
        "id": "view-in-github",
        "colab_type": "text"
      },
      "source": [
        "<a href=\"https://colab.research.google.com/github/IsmailAKBOGA/NASA-Nearest-Earth-Objects-1910-2024-globalai_ML_project-/blob/main/Nearest_Earth_Objects(1_%5BGlobalA%C4%B0-supervised%5D.ipynb\" target=\"_parent\"><img src=\"https://colab.research.google.com/assets/colab-badge.svg\" alt=\"Open In Colab\"/></a>"
      ]
    },
    {
      "source": [
        "\n",
        "# IMPORTANT: RUN THIS CELL IN ORDER TO IMPORT YOUR KAGGLE DATA SOURCES\n",
        "# TO THE CORRECT LOCATION (/kaggle/input) IN YOUR NOTEBOOK,\n",
        "# THEN FEEL FREE TO DELETE THIS CELL.\n",
        "# NOTE: THIS NOTEBOOK ENVIRONMENT DIFFERS FROM KAGGLE'S PYTHON\n",
        "# ENVIRONMENT SO THERE MAY BE MISSING LIBRARIES USED BY YOUR\n",
        "# NOTEBOOK.\n",
        "\n",
        "import os\n",
        "import sys\n",
        "from tempfile import NamedTemporaryFile\n",
        "from urllib.request import urlopen\n",
        "from urllib.parse import unquote, urlparse\n",
        "from urllib.error import HTTPError\n",
        "from zipfile import ZipFile\n",
        "import tarfile\n",
        "import shutil\n",
        "\n",
        "CHUNK_SIZE = 40960\n",
        "DATA_SOURCE_MAPPING = 'nasa-nearest-earth-objects-1910-2024:https%3A%2F%2Fstorage.googleapis.com%2Fkaggle-data-sets%2F5410371%2F8984243%2Fbundle%2Farchive.zip%3FX-Goog-Algorithm%3DGOOG4-RSA-SHA256%26X-Goog-Credential%3Dgcp-kaggle-com%2540kaggle-161607.iam.gserviceaccount.com%252F20240916%252Fauto%252Fstorage%252Fgoog4_request%26X-Goog-Date%3D20240916T160641Z%26X-Goog-Expires%3D259200%26X-Goog-SignedHeaders%3Dhost%26X-Goog-Signature%3D1f845c37465cf71b54d0ef8cf36345119069fd2ff259b9c88f00948e5a9296b512c64fe8030ce262fd4c7beec8e1967302b5dcffcc2764467b6c69ea0595ac4a45f02028eace46909de5c09b822cc79e99963d1c804b1a9e020d9403b53a06697fb5d96847b98e84f867ae6e9f80028acc420c71059bc5377a90ad0a8c10ac8dee16c94098295bf7728840fe0199614406437cbec16afae4e7a364be673febccc87a5f3f6d3132b172d8e566b0f3510315d3051c1e414b24bf2a2b2a8709ef2733754463d632f14a43dfdd04d5e48e9559ea423202a3b9054ef3d98550241027dee222a56281c9849ff52bd9d8d547b9af78412fbbfd2c5c086c03192f8a94ed'\n",
        "\n",
        "KAGGLE_INPUT_PATH='/kaggle/input'\n",
        "KAGGLE_WORKING_PATH='/kaggle/working'\n",
        "KAGGLE_SYMLINK='kaggle'\n",
        "\n",
        "!umount /kaggle/input/ 2> /dev/null\n",
        "shutil.rmtree('/kaggle/input', ignore_errors=True)\n",
        "os.makedirs(KAGGLE_INPUT_PATH, 0o777, exist_ok=True)\n",
        "os.makedirs(KAGGLE_WORKING_PATH, 0o777, exist_ok=True)\n",
        "\n",
        "try:\n",
        "  os.symlink(KAGGLE_INPUT_PATH, os.path.join(\"..\", 'input'), target_is_directory=True)\n",
        "except FileExistsError:\n",
        "  pass\n",
        "try:\n",
        "  os.symlink(KAGGLE_WORKING_PATH, os.path.join(\"..\", 'working'), target_is_directory=True)\n",
        "except FileExistsError:\n",
        "  pass\n",
        "\n",
        "for data_source_mapping in DATA_SOURCE_MAPPING.split(','):\n",
        "    directory, download_url_encoded = data_source_mapping.split(':')\n",
        "    download_url = unquote(download_url_encoded)\n",
        "    filename = urlparse(download_url).path\n",
        "    destination_path = os.path.join(KAGGLE_INPUT_PATH, directory)\n",
        "    try:\n",
        "        with urlopen(download_url) as fileres, NamedTemporaryFile() as tfile:\n",
        "            total_length = fileres.headers['content-length']\n",
        "            print(f'Downloading {directory}, {total_length} bytes compressed')\n",
        "            dl = 0\n",
        "            data = fileres.read(CHUNK_SIZE)\n",
        "            while len(data) > 0:\n",
        "                dl += len(data)\n",
        "                tfile.write(data)\n",
        "                done = int(50 * dl / int(total_length))\n",
        "                sys.stdout.write(f\"\\r[{'=' * done}{' ' * (50-done)}] {dl} bytes downloaded\")\n",
        "                sys.stdout.flush()\n",
        "                data = fileres.read(CHUNK_SIZE)\n",
        "            if filename.endswith('.zip'):\n",
        "              with ZipFile(tfile) as zfile:\n",
        "                zfile.extractall(destination_path)\n",
        "            else:\n",
        "              with tarfile.open(tfile.name) as tarfile:\n",
        "                tarfile.extractall(destination_path)\n",
        "            print(f'\\nDownloaded and uncompressed: {directory}')\n",
        "    except HTTPError as e:\n",
        "        print(f'Failed to load (likely expired) {download_url} to path {destination_path}')\n",
        "        continue\n",
        "    except OSError as e:\n",
        "        print(f'Failed to load {download_url} to path {destination_path}')\n",
        "        continue\n",
        "\n",
        "print('Data source import complete.')\n"
      ],
      "metadata": {
        "id": "pXpGioJolhs3"
      },
      "cell_type": "code",
      "outputs": [],
      "execution_count": null
    },
    {
      "cell_type": "markdown",
      "source": [
        "# Gerekli Kütüphaneleri Yükledik."
      ],
      "metadata": {
        "id": "uA1TMmCWlhs5"
      }
    },
    {
      "cell_type": "code",
      "source": [
        "import pandas as pd\n",
        "from sklearn.model_selection import train_test_split\n",
        "from sklearn.linear_model import LogisticRegression\n",
        "from sklearn.metrics import classification_report, accuracy_score\n",
        "from io import StringIO\n",
        "from sklearn.impute import SimpleImputer\n",
        "\n",
        "import os\n",
        "for dirname, _, filenames in os.walk('/kaggle/input'):\n",
        "    for filename in filenames:\n",
        "        print(os.path.join(dirname, filename))"
      ],
      "metadata": {
        "_uuid": "8f2839f25d086af736a60e9eeb907d3b93b6e0e5",
        "_cell_guid": "b1076dfc-b9ad-4769-8c92-a6c4dae69d19",
        "execution": {
          "iopub.status.busy": "2024-09-16T15:10:21.622508Z",
          "iopub.execute_input": "2024-09-16T15:10:21.623918Z",
          "iopub.status.idle": "2024-09-16T15:10:22.616365Z",
          "shell.execute_reply.started": "2024-09-16T15:10:21.623845Z",
          "shell.execute_reply": "2024-09-16T15:10:22.614508Z"
        },
        "trusted": true,
        "id": "8BU0BvwOlhs7"
      },
      "execution_count": null,
      "outputs": []
    },
    {
      "cell_type": "markdown",
      "source": [
        "# csv dosyasını okuduk ve ilk 5 satırı yazdırdık."
      ],
      "metadata": {
        "id": "E74BuJp3lhs9"
      }
    },
    {
      "cell_type": "code",
      "source": [
        "df = pd.read_csv(\"/kaggle/input/nasa-nearest-earth-objects-1910-2024/nearest-earth-objects(1910-2024).csv\")\n",
        "print(df.head())\n",
        ""
      ],
      "metadata": {
        "execution": {
          "iopub.status.busy": "2024-09-16T15:09:33.402357Z",
          "iopub.execute_input": "2024-09-16T15:09:33.403412Z",
          "iopub.status.idle": "2024-09-16T15:09:34.03863Z",
          "shell.execute_reply.started": "2024-09-16T15:09:33.403365Z",
          "shell.execute_reply": "2024-09-16T15:09:34.03749Z"
        },
        "trusted": true,
        "id": "aII3DAz0lhs-"
      },
      "execution_count": null,
      "outputs": []
    },
    {
      "cell_type": "markdown",
      "source": [
        "# Sütundaki verileri tam sayıya dönüştürdük."
      ],
      "metadata": {
        "id": "ycepQ87Ilhs_"
      }
    },
    {
      "cell_type": "code",
      "source": [
        "df['is_hazardous'] = df['is_hazardous'].astype(int)"
      ],
      "metadata": {
        "id": "0Z12JQ6LlhtA"
      },
      "execution_count": null,
      "outputs": []
    },
    {
      "cell_type": "markdown",
      "source": [
        "# Kullanılacak sütunları seçtik."
      ],
      "metadata": {
        "id": "Cylx7SdylhtB"
      }
    },
    {
      "cell_type": "code",
      "source": [
        "\n",
        "x = df[['absolute_magnitude', 'relative_velocity', 'miss_distance']]\n",
        "y = df['is_hazardous']"
      ],
      "metadata": {
        "execution": {
          "iopub.status.busy": "2024-09-16T15:10:10.007518Z",
          "iopub.execute_input": "2024-09-16T15:10:10.008054Z",
          "iopub.status.idle": "2024-09-16T15:10:10.020835Z",
          "shell.execute_reply.started": "2024-09-16T15:10:10.008008Z",
          "shell.execute_reply": "2024-09-16T15:10:10.019285Z"
        },
        "trusted": true,
        "id": "bysCVPXglhtB"
      },
      "execution_count": null,
      "outputs": []
    },
    {
      "cell_type": "markdown",
      "source": [
        "# Burada veriyi eğitim ve test setlerine ayırdık."
      ],
      "metadata": {
        "id": "rmQXbgdmlhtB"
      }
    },
    {
      "cell_type": "code",
      "source": [
        "x_train, x_test, y_train, y_test = train_test_split(x, y, test_size=0.2, random_state=42)\n",
        ""
      ],
      "metadata": {
        "execution": {
          "iopub.status.busy": "2024-09-16T15:10:26.629107Z",
          "iopub.execute_input": "2024-09-16T15:10:26.629604Z",
          "iopub.status.idle": "2024-09-16T15:10:26.661791Z",
          "shell.execute_reply.started": "2024-09-16T15:10:26.62956Z",
          "shell.execute_reply": "2024-09-16T15:10:26.660526Z"
        },
        "trusted": true,
        "id": "060cpXTqlhtB"
      },
      "execution_count": null,
      "outputs": []
    },
    {
      "cell_type": "markdown",
      "source": [
        "# Eksik verileri medyan ile doldurduk."
      ],
      "metadata": {
        "id": "fDZBrDNklhtC"
      }
    },
    {
      "cell_type": "code",
      "source": [
        "imputer = SimpleImputer(strategy='median')\n",
        "x_train_imputed = imputer.fit_transform(x_train)\n",
        "x_test_imputed = imputer.transform(x_test)\n"
      ],
      "metadata": {
        "execution": {
          "iopub.status.busy": "2024-09-16T15:10:36.992723Z",
          "iopub.execute_input": "2024-09-16T15:10:36.99329Z",
          "iopub.status.idle": "2024-09-16T15:10:37.164274Z",
          "shell.execute_reply.started": "2024-09-16T15:10:36.993234Z",
          "shell.execute_reply": "2024-09-16T15:10:37.162971Z"
        },
        "trusted": true,
        "id": "C9CODYNtlhtC"
      },
      "execution_count": null,
      "outputs": []
    },
    {
      "cell_type": "markdown",
      "source": [
        "# Lojistik Regrasyon modeli oluşturup modeli eğitim verisi ile eğittik."
      ],
      "metadata": {
        "id": "5-L11AXIlhtC"
      }
    },
    {
      "cell_type": "code",
      "source": [
        "model = LogisticRegression()\n",
        "\n",
        "model.fit(x_train_imputed, y_train)\n",
        "\n",
        "LogisticRegression()\n"
      ],
      "metadata": {
        "execution": {
          "iopub.status.busy": "2024-09-16T15:10:49.475247Z",
          "iopub.execute_input": "2024-09-16T15:10:49.47659Z",
          "iopub.status.idle": "2024-09-16T15:10:50.440637Z",
          "shell.execute_reply.started": "2024-09-16T15:10:49.476531Z",
          "shell.execute_reply": "2024-09-16T15:10:50.439401Z"
        },
        "trusted": true,
        "id": "UtHNdao7lhtC"
      },
      "execution_count": null,
      "outputs": []
    },
    {
      "cell_type": "markdown",
      "source": [
        "# Test için tahminlerde bulunuldu."
      ],
      "metadata": {
        "id": "qEkj21UHlhtD"
      }
    },
    {
      "cell_type": "code",
      "source": [
        "\n",
        "y_pred = model.predict(x_test_imputed)\n"
      ],
      "metadata": {
        "execution": {
          "iopub.status.busy": "2024-09-16T15:11:56.707195Z",
          "iopub.execute_input": "2024-09-16T15:11:56.707876Z",
          "iopub.status.idle": "2024-09-16T15:11:56.719557Z",
          "shell.execute_reply.started": "2024-09-16T15:11:56.707816Z",
          "shell.execute_reply": "2024-09-16T15:11:56.717988Z"
        },
        "trusted": true,
        "id": "oNUUB5EdlhtD"
      },
      "execution_count": null,
      "outputs": []
    },
    {
      "cell_type": "markdown",
      "source": [
        "Modelin doğruluk oranı hesaplandı ve rapor oluşturuldu."
      ],
      "metadata": {
        "id": "qNYfy_oulhtD"
      }
    },
    {
      "cell_type": "code",
      "source": [
        "accuracy = accuracy_score(y_test, y_pred)\n",
        "report = classification_report(y_test, y_pred, zero_division=0)\n",
        "\n"
      ],
      "metadata": {
        "execution": {
          "iopub.status.busy": "2024-09-16T15:17:11.363327Z",
          "iopub.execute_input": "2024-09-16T15:17:11.36381Z",
          "iopub.status.idle": "2024-09-16T15:17:11.486587Z",
          "shell.execute_reply.started": "2024-09-16T15:17:11.363767Z",
          "shell.execute_reply": "2024-09-16T15:17:11.485281Z"
        },
        "trusted": true,
        "id": "R4Vgg26_lhtE"
      },
      "execution_count": null,
      "outputs": []
    },
    {
      "cell_type": "markdown",
      "source": [
        "# Doğruluk oranı ve sınıflandırma raporunu ekrana yazdırdık."
      ],
      "metadata": {
        "id": "fujHkl0ElhtF"
      }
    },
    {
      "cell_type": "code",
      "source": [
        "print(f\"Doğruluk: {accuracy}\")\n",
        "print(\"Sınıflandırma raporu:\")\n",
        "print(report)"
      ],
      "metadata": {
        "execution": {
          "iopub.status.busy": "2024-09-16T15:16:23.206224Z",
          "iopub.execute_input": "2024-09-16T15:16:23.206829Z",
          "iopub.status.idle": "2024-09-16T15:16:23.214536Z",
          "shell.execute_reply.started": "2024-09-16T15:16:23.206781Z",
          "shell.execute_reply": "2024-09-16T15:16:23.212912Z"
        },
        "trusted": true,
        "id": "Eb2dT9AWlhtF"
      },
      "execution_count": null,
      "outputs": []
    },
    {
      "cell_type": "markdown",
      "source": [
        "# Modelin katsayıları ve kesme terimlerini ekrana yazdırdık."
      ],
      "metadata": {
        "id": "WsF0LSOPlhtG"
      }
    },
    {
      "cell_type": "code",
      "source": [
        "print(\"Katsayılar:\", model.coef_)\n",
        "print(\"Kesişim:\", model.intercept_)\n"
      ],
      "metadata": {
        "execution": {
          "iopub.status.busy": "2024-09-16T15:20:22.424152Z",
          "iopub.execute_input": "2024-09-16T15:20:22.425306Z",
          "iopub.status.idle": "2024-09-16T15:20:22.432854Z",
          "shell.execute_reply.started": "2024-09-16T15:20:22.425249Z",
          "shell.execute_reply": "2024-09-16T15:20:22.431279Z"
        },
        "trusted": true,
        "id": "t2ljvyjulhtG"
      },
      "execution_count": null,
      "outputs": []
    }
  ]
}